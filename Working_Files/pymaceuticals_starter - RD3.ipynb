{
 "cells": [
  {
   "cell_type": "markdown",
   "metadata": {},
   "source": [
    "## Observations and Insights "
   ]
  },
  {
   "cell_type": "markdown",
   "metadata": {},
   "source": []
  },
  {
   "cell_type": "code",
   "execution_count": 1,
   "metadata": {},
   "outputs": [],
   "source": [
    "# Dependencies and Setup\n",
    "import os\n",
    "import matplotlib.pyplot as plt\n",
    "import pandas as pd\n",
    "import scipy.stats as st\n",
    "import numpy as np\n",
    "\n",
    "# Study data files\n",
    "mouse_metadata_path = os.path.join(\"data\",\"Mouse_metadata.csv\")\n",
    "study_results_path = os.path.join(\"data\",\"Study_results.csv\")\n",
    "\n",
    "# Read the mouse data and the study results\n",
    "mouse_metadata = pd.read_csv(mouse_metadata_path)\n",
    "study_results = pd.read_csv(study_results_path)\n",
    "\n",
    "# Combine the data into a single dataset\n",
    "study_complete = pd.merge(mouse_metadata, study_results, how=\"left\", on=[\"Mouse ID\"])"
   ]
  },
  {
   "cell_type": "code",
   "execution_count": 2,
   "metadata": {},
   "outputs": [
    {
     "name": "stdout",
     "output_type": "stream",
     "text": [
      "There are 249 unique mice IDs in the DataFrame, across 1893 data points.\n"
     ]
    }
   ],
   "source": [
    "# Check the number of mice in the DataFrame.\n",
    "num_unique_mice = len(study_complete['Mouse ID'].value_counts())\n",
    "num_data_points = len(study_complete['Mouse ID'])\n",
    "print(f'There are {num_unique_mice} unique mice IDs in the DataFrame, across {num_data_points} data points.')"
   ]
  },
  {
   "cell_type": "code",
   "execution_count": 3,
   "metadata": {},
   "outputs": [
    {
     "data": {
      "text/html": [
       "<div>\n",
       "<style scoped>\n",
       "    .dataframe tbody tr th:only-of-type {\n",
       "        vertical-align: middle;\n",
       "    }\n",
       "\n",
       "    .dataframe tbody tr th {\n",
       "        vertical-align: top;\n",
       "    }\n",
       "\n",
       "    .dataframe thead th {\n",
       "        text-align: right;\n",
       "    }\n",
       "</style>\n",
       "<table border=\"1\" class=\"dataframe\">\n",
       "  <thead>\n",
       "    <tr style=\"text-align: right;\">\n",
       "      <th></th>\n",
       "      <th>Mouse ID</th>\n",
       "      <th>Drug Regimen</th>\n",
       "      <th>Sex</th>\n",
       "      <th>Age_months</th>\n",
       "      <th>Weight (g)</th>\n",
       "      <th>Timepoint</th>\n",
       "      <th>Tumor Volume (mm3)</th>\n",
       "      <th>Metastatic Sites</th>\n",
       "    </tr>\n",
       "  </thead>\n",
       "  <tbody>\n",
       "    <tr>\n",
       "      <th>909</th>\n",
       "      <td>g989</td>\n",
       "      <td>Propriva</td>\n",
       "      <td>Female</td>\n",
       "      <td>21</td>\n",
       "      <td>26</td>\n",
       "      <td>0</td>\n",
       "      <td>45.000000</td>\n",
       "      <td>0</td>\n",
       "    </tr>\n",
       "    <tr>\n",
       "      <th>911</th>\n",
       "      <td>g989</td>\n",
       "      <td>Propriva</td>\n",
       "      <td>Female</td>\n",
       "      <td>21</td>\n",
       "      <td>26</td>\n",
       "      <td>5</td>\n",
       "      <td>47.570392</td>\n",
       "      <td>0</td>\n",
       "    </tr>\n",
       "    <tr>\n",
       "      <th>913</th>\n",
       "      <td>g989</td>\n",
       "      <td>Propriva</td>\n",
       "      <td>Female</td>\n",
       "      <td>21</td>\n",
       "      <td>26</td>\n",
       "      <td>10</td>\n",
       "      <td>49.880528</td>\n",
       "      <td>0</td>\n",
       "    </tr>\n",
       "    <tr>\n",
       "      <th>915</th>\n",
       "      <td>g989</td>\n",
       "      <td>Propriva</td>\n",
       "      <td>Female</td>\n",
       "      <td>21</td>\n",
       "      <td>26</td>\n",
       "      <td>15</td>\n",
       "      <td>53.442020</td>\n",
       "      <td>0</td>\n",
       "    </tr>\n",
       "    <tr>\n",
       "      <th>917</th>\n",
       "      <td>g989</td>\n",
       "      <td>Propriva</td>\n",
       "      <td>Female</td>\n",
       "      <td>21</td>\n",
       "      <td>26</td>\n",
       "      <td>20</td>\n",
       "      <td>54.657650</td>\n",
       "      <td>1</td>\n",
       "    </tr>\n",
       "  </tbody>\n",
       "</table>\n",
       "</div>"
      ],
      "text/plain": [
       "    Mouse ID Drug Regimen     Sex  Age_months  Weight (g)  Timepoint  \\\n",
       "909     g989     Propriva  Female          21          26          0   \n",
       "911     g989     Propriva  Female          21          26          5   \n",
       "913     g989     Propriva  Female          21          26         10   \n",
       "915     g989     Propriva  Female          21          26         15   \n",
       "917     g989     Propriva  Female          21          26         20   \n",
       "\n",
       "     Tumor Volume (mm3)  Metastatic Sites  \n",
       "909           45.000000                 0  \n",
       "911           47.570392                 0  \n",
       "913           49.880528                 0  \n",
       "915           53.442020                 0  \n",
       "917           54.657650                 1  "
      ]
     },
     "execution_count": 3,
     "metadata": {},
     "output_type": "execute_result"
    }
   ],
   "source": [
    "# Get the duplicate mice by ID number that shows up for Mouse ID and Timepoint. \n",
    "# Optional: Get all the data for the duplicate mouse ID. \n",
    "study_complete[study_complete.duplicated(subset=[\"Mouse ID\",\"Timepoint\"] , keep='first')]"
   ]
  },
  {
   "cell_type": "code",
   "execution_count": 4,
   "metadata": {},
   "outputs": [],
   "source": [
    "# Create a clean DataFrame by dropping the duplicate mouse by its ID. Applying inplace to existing DataFrame to save memory.\n",
    "study_complete.drop_duplicates(subset=[\"Mouse ID\",\"Timepoint\"],keep='first', inplace=True)"
   ]
  },
  {
   "cell_type": "code",
   "execution_count": 5,
   "metadata": {},
   "outputs": [
    {
     "name": "stdout",
     "output_type": "stream",
     "text": [
      "There are 249 unique mice IDs in the DataFrame, across 1888 data points.\n",
      "Tidying up duplicates has removed 0 mice and 5 datapoints.\n"
     ]
    }
   ],
   "source": [
    "# Checking the number of mice in the clean DataFrame.\n",
    "num_unique_mice2 = len(study_complete['Mouse ID'].value_counts())\n",
    "num_data_points2 = len(study_complete['Mouse ID'])\n",
    "print(f'There are {num_unique_mice2} unique mice IDs in the DataFrame, across {num_data_points2} data points.')\n",
    "print(f'Tidying up duplicates has removed {num_unique_mice2-num_unique_mice} mice and {num_data_points-num_data_points2} datapoints.')"
   ]
  },
  {
   "cell_type": "markdown",
   "metadata": {},
   "source": [
    "## Summary Statistics"
   ]
  },
  {
   "cell_type": "code",
   "execution_count": 6,
   "metadata": {},
   "outputs": [
    {
     "data": {
      "text/html": [
       "<div>\n",
       "<style scoped>\n",
       "    .dataframe tbody tr th:only-of-type {\n",
       "        vertical-align: middle;\n",
       "    }\n",
       "\n",
       "    .dataframe tbody tr th {\n",
       "        vertical-align: top;\n",
       "    }\n",
       "\n",
       "    .dataframe thead th {\n",
       "        text-align: right;\n",
       "    }\n",
       "</style>\n",
       "<table border=\"1\" class=\"dataframe\">\n",
       "  <thead>\n",
       "    <tr style=\"text-align: right;\">\n",
       "      <th></th>\n",
       "      <th>Tumor Volume Mean</th>\n",
       "      <th>Tumor Volume Median</th>\n",
       "      <th>Tumor Volume Variance</th>\n",
       "      <th>Tumor Volume Standard Deviation</th>\n",
       "      <th>Tumor Volume SEM</th>\n",
       "    </tr>\n",
       "  </thead>\n",
       "  <tbody>\n",
       "    <tr>\n",
       "      <th>Ramicane</th>\n",
       "      <td>40.22</td>\n",
       "      <td>40.67</td>\n",
       "      <td>23.49</td>\n",
       "      <td>4.85</td>\n",
       "      <td>0.32</td>\n",
       "    </tr>\n",
       "    <tr>\n",
       "      <th>Capomulin</th>\n",
       "      <td>40.68</td>\n",
       "      <td>41.56</td>\n",
       "      <td>24.95</td>\n",
       "      <td>4.99</td>\n",
       "      <td>0.33</td>\n",
       "    </tr>\n",
       "    <tr>\n",
       "      <th>Infubinol</th>\n",
       "      <td>52.88</td>\n",
       "      <td>51.82</td>\n",
       "      <td>43.13</td>\n",
       "      <td>6.57</td>\n",
       "      <td>0.49</td>\n",
       "    </tr>\n",
       "    <tr>\n",
       "      <th>Placebo</th>\n",
       "      <td>54.03</td>\n",
       "      <td>52.29</td>\n",
       "      <td>61.17</td>\n",
       "      <td>7.82</td>\n",
       "      <td>0.58</td>\n",
       "    </tr>\n",
       "    <tr>\n",
       "      <th>Ceftamin</th>\n",
       "      <td>52.59</td>\n",
       "      <td>51.78</td>\n",
       "      <td>39.29</td>\n",
       "      <td>6.27</td>\n",
       "      <td>0.47</td>\n",
       "    </tr>\n",
       "    <tr>\n",
       "      <th>Stelasyn</th>\n",
       "      <td>54.23</td>\n",
       "      <td>52.43</td>\n",
       "      <td>59.45</td>\n",
       "      <td>7.71</td>\n",
       "      <td>0.57</td>\n",
       "    </tr>\n",
       "    <tr>\n",
       "      <th>Zoniferol</th>\n",
       "      <td>53.24</td>\n",
       "      <td>51.82</td>\n",
       "      <td>48.53</td>\n",
       "      <td>6.97</td>\n",
       "      <td>0.52</td>\n",
       "    </tr>\n",
       "    <tr>\n",
       "      <th>Ketapril</th>\n",
       "      <td>55.24</td>\n",
       "      <td>53.70</td>\n",
       "      <td>68.55</td>\n",
       "      <td>8.28</td>\n",
       "      <td>0.60</td>\n",
       "    </tr>\n",
       "    <tr>\n",
       "      <th>Propriva</th>\n",
       "      <td>52.39</td>\n",
       "      <td>50.91</td>\n",
       "      <td>43.14</td>\n",
       "      <td>6.57</td>\n",
       "      <td>0.53</td>\n",
       "    </tr>\n",
       "    <tr>\n",
       "      <th>Naftisol</th>\n",
       "      <td>54.33</td>\n",
       "      <td>52.51</td>\n",
       "      <td>66.17</td>\n",
       "      <td>8.13</td>\n",
       "      <td>0.60</td>\n",
       "    </tr>\n",
       "  </tbody>\n",
       "</table>\n",
       "</div>"
      ],
      "text/plain": [
       "           Tumor Volume Mean  Tumor Volume Median  Tumor Volume Variance  \\\n",
       "Ramicane               40.22                40.67                  23.49   \n",
       "Capomulin              40.68                41.56                  24.95   \n",
       "Infubinol              52.88                51.82                  43.13   \n",
       "Placebo                54.03                52.29                  61.17   \n",
       "Ceftamin               52.59                51.78                  39.29   \n",
       "Stelasyn               54.23                52.43                  59.45   \n",
       "Zoniferol              53.24                51.82                  48.53   \n",
       "Ketapril               55.24                53.70                  68.55   \n",
       "Propriva               52.39                50.91                  43.14   \n",
       "Naftisol               54.33                52.51                  66.17   \n",
       "\n",
       "           Tumor Volume Standard Deviation  Tumor Volume SEM  \n",
       "Ramicane                              4.85              0.32  \n",
       "Capomulin                             4.99              0.33  \n",
       "Infubinol                             6.57              0.49  \n",
       "Placebo                               7.82              0.58  \n",
       "Ceftamin                              6.27              0.47  \n",
       "Stelasyn                              7.71              0.57  \n",
       "Zoniferol                             6.97              0.52  \n",
       "Ketapril                              8.28              0.60  \n",
       "Propriva                              6.57              0.53  \n",
       "Naftisol                              8.13              0.60  "
      ]
     },
     "execution_count": 6,
     "metadata": {},
     "output_type": "execute_result"
    }
   ],
   "source": [
    "# Generate a summary statistics table of mean, median, variance, standard deviation, and SEM of the tumor volume for each regimen\n",
    "# This method creates multiple series and puts them all together at the end.\n",
    "drug_list = study_complete['Drug Regimen'].unique()\n",
    "sum_stats = pd.DataFrame(index = drug_list)\n",
    "for drug in drug_list:\n",
    "    sum_stats.loc[drug,\"Tumor Volume Mean\"] = study_complete.loc[study_complete['Drug Regimen'] == drug]['Tumor Volume (mm3)'].mean()\n",
    "    sum_stats.loc[drug,\"Tumor Volume Median\"] = study_complete.loc[study_complete['Drug Regimen'] == drug]['Tumor Volume (mm3)'].median()\n",
    "    sum_stats.loc[drug,\"Tumor Volume Variance\"] = study_complete.loc[study_complete['Drug Regimen'] == drug]['Tumor Volume (mm3)'].var()\n",
    "    sum_stats.loc[drug,\"Tumor Volume Standard Deviation\"] = study_complete.loc[study_complete['Drug Regimen'] == drug]['Tumor Volume (mm3)'].std()\n",
    "    sum_stats.loc[drug,\"Tumor Volume SEM\"] = study_complete.loc[study_complete['Drug Regimen'] == drug]['Tumor Volume (mm3)'].sem()\n",
    "pd.options.display.float_format = '{:,.2f}'.format\n",
    "sum_stats"
   ]
  },
  {
   "cell_type": "code",
   "execution_count": 7,
   "metadata": {
    "scrolled": true
   },
   "outputs": [
    {
     "data": {
      "text/html": [
       "<div>\n",
       "<style scoped>\n",
       "    .dataframe tbody tr th:only-of-type {\n",
       "        vertical-align: middle;\n",
       "    }\n",
       "\n",
       "    .dataframe tbody tr th {\n",
       "        vertical-align: top;\n",
       "    }\n",
       "\n",
       "    .dataframe thead th {\n",
       "        text-align: right;\n",
       "    }\n",
       "</style>\n",
       "<table border=\"1\" class=\"dataframe\">\n",
       "  <thead>\n",
       "    <tr style=\"text-align: right;\">\n",
       "      <th></th>\n",
       "      <th>Tumor Volume Mean</th>\n",
       "      <th>Tumor Volume Median</th>\n",
       "      <th>Tumor Volume Variance</th>\n",
       "      <th>Tumor Volume Standard Deviation</th>\n",
       "      <th>Tumor Volume SEM</th>\n",
       "    </tr>\n",
       "  </thead>\n",
       "  <tbody>\n",
       "    <tr>\n",
       "      <th>Ramicane</th>\n",
       "      <td>40.22</td>\n",
       "      <td>40.67</td>\n",
       "      <td>23.49</td>\n",
       "      <td>4.85</td>\n",
       "      <td>0.32</td>\n",
       "    </tr>\n",
       "    <tr>\n",
       "      <th>Capomulin</th>\n",
       "      <td>40.68</td>\n",
       "      <td>41.56</td>\n",
       "      <td>24.95</td>\n",
       "      <td>4.99</td>\n",
       "      <td>0.33</td>\n",
       "    </tr>\n",
       "    <tr>\n",
       "      <th>Infubinol</th>\n",
       "      <td>52.88</td>\n",
       "      <td>51.82</td>\n",
       "      <td>43.13</td>\n",
       "      <td>6.57</td>\n",
       "      <td>0.49</td>\n",
       "    </tr>\n",
       "    <tr>\n",
       "      <th>Placebo</th>\n",
       "      <td>54.03</td>\n",
       "      <td>52.29</td>\n",
       "      <td>61.17</td>\n",
       "      <td>7.82</td>\n",
       "      <td>0.58</td>\n",
       "    </tr>\n",
       "    <tr>\n",
       "      <th>Ceftamin</th>\n",
       "      <td>52.59</td>\n",
       "      <td>51.78</td>\n",
       "      <td>39.29</td>\n",
       "      <td>6.27</td>\n",
       "      <td>0.47</td>\n",
       "    </tr>\n",
       "    <tr>\n",
       "      <th>Stelasyn</th>\n",
       "      <td>54.23</td>\n",
       "      <td>52.43</td>\n",
       "      <td>59.45</td>\n",
       "      <td>7.71</td>\n",
       "      <td>0.57</td>\n",
       "    </tr>\n",
       "    <tr>\n",
       "      <th>Zoniferol</th>\n",
       "      <td>53.24</td>\n",
       "      <td>51.82</td>\n",
       "      <td>48.53</td>\n",
       "      <td>6.97</td>\n",
       "      <td>0.52</td>\n",
       "    </tr>\n",
       "    <tr>\n",
       "      <th>Ketapril</th>\n",
       "      <td>55.24</td>\n",
       "      <td>53.70</td>\n",
       "      <td>68.55</td>\n",
       "      <td>8.28</td>\n",
       "      <td>0.60</td>\n",
       "    </tr>\n",
       "    <tr>\n",
       "      <th>Propriva</th>\n",
       "      <td>52.39</td>\n",
       "      <td>50.91</td>\n",
       "      <td>43.14</td>\n",
       "      <td>6.57</td>\n",
       "      <td>0.53</td>\n",
       "    </tr>\n",
       "    <tr>\n",
       "      <th>Naftisol</th>\n",
       "      <td>54.33</td>\n",
       "      <td>52.51</td>\n",
       "      <td>66.17</td>\n",
       "      <td>8.13</td>\n",
       "      <td>0.60</td>\n",
       "    </tr>\n",
       "  </tbody>\n",
       "</table>\n",
       "</div>"
      ],
      "text/plain": [
       "           Tumor Volume Mean  Tumor Volume Median  Tumor Volume Variance  \\\n",
       "Ramicane               40.22                40.67                  23.49   \n",
       "Capomulin              40.68                41.56                  24.95   \n",
       "Infubinol              52.88                51.82                  43.13   \n",
       "Placebo                54.03                52.29                  61.17   \n",
       "Ceftamin               52.59                51.78                  39.29   \n",
       "Stelasyn               54.23                52.43                  59.45   \n",
       "Zoniferol              53.24                51.82                  48.53   \n",
       "Ketapril               55.24                53.70                  68.55   \n",
       "Propriva               52.39                50.91                  43.14   \n",
       "Naftisol               54.33                52.51                  66.17   \n",
       "\n",
       "           Tumor Volume Standard Deviation  Tumor Volume SEM  \n",
       "Ramicane                              4.85              0.32  \n",
       "Capomulin                             4.99              0.33  \n",
       "Infubinol                             6.57              0.49  \n",
       "Placebo                               7.82              0.58  \n",
       "Ceftamin                              6.27              0.47  \n",
       "Stelasyn                              7.71              0.57  \n",
       "Zoniferol                             6.97              0.52  \n",
       "Ketapril                              8.28              0.60  \n",
       "Propriva                              6.57              0.53  \n",
       "Naftisol                              8.13              0.60  "
      ]
     },
     "execution_count": 7,
     "metadata": {},
     "output_type": "execute_result"
    }
   ],
   "source": [
    "#Same thing, using Groupby\n",
    "grouped_drugs_df = study_complete.groupby(['Drug Regimen'])\n",
    "sum_stats_grouped = pd.DataFrame({'Tumor Volume Mean': grouped_drugs_df['Tumor Volume (mm3)'].mean(),\n",
    "                                  'Tumor Volume Median': grouped_drugs_df['Tumor Volume (mm3)'].median(),\n",
    "                                  'Tumor Volume Variance': grouped_drugs_df['Tumor Volume (mm3)'].var(),\n",
    "                                  'Tumor Volume Standard Deviation': grouped_drugs_df['Tumor Volume (mm3)'].std(),\n",
    "                                  'Tumor Volume SEM': grouped_drugs_df['Tumor Volume (mm3)'].sem()\n",
    "},index = drug_list)\n",
    "sum_stats_grouped"
   ]
  },
  {
   "cell_type": "markdown",
   "metadata": {},
   "source": [
    "## Bar Plots"
   ]
  },
  {
   "cell_type": "code",
   "execution_count": 8,
   "metadata": {},
   "outputs": [
    {
     "data": {
      "image/png": "[encoded data removed]",
      "text/plain": [
       "<Figure size 432x288 with 1 Axes>"
      ]
     },
     "metadata": {
      "needs_background": "light"
     },
     "output_type": "display_data"
    }
   ],
   "source": [
    "# Generate a bar plot showing the number of mice per time point for each treatment throughout the course of the study using pandas.\n",
    "#First, let's look at a graph for all drugs combined, and show how the number of mice drops over time.\n",
    "grouped_timepoint_df = study_complete.groupby(['Timepoint'])\n",
    "mice_per_timepoint = grouped_timepoint_df['Mouse ID'].count()\n",
    "y_axis = mice_per_timepoint\n",
    "x_axis = study_complete['Timepoint'].unique()\n",
    "plt.bar(x_axis, y_axis, color=\"b\", align=\"center\", label= 'All Drugs')\n",
    "plt.title(\"Number of mice per time point for each treatment\")\n",
    "plt.xlabel('Time Point')\n",
    "plt.ylabel('Number of Mice')\n",
    "plt.legend(loc=\"best\")\n",
    "plt.tight_layout()\n",
    "plt.show()"
   ]
  },
  {
   "cell_type": "code",
   "execution_count": 9,
   "metadata": {},
   "outputs": [
    {
     "data": {
      "image/png": "[encoded data removed]",
      "text/plain": [
       "<Figure size 1440x720 with 10 Axes>"
      ]
     },
     "metadata": {
      "needs_background": "light"
     },
     "output_type": "display_data"
    }
   ],
   "source": [
    "#Now, let's look at the same pattern for individual drugs.\n",
    "x_axis = study_complete['Timepoint'].unique() \n",
    "z = 0\n",
    "fig, axes = plt.subplots(1, 10)\n",
    "for drug in drug_list:\n",
    "    y_axis = study_complete[study_complete['Drug Regimen'] == drug].groupby('Timepoint')['Mouse ID'].count()\n",
    "    axes[z].bar(x_axis, y_axis,align=\"center\", label= drug, width = 1)\n",
    "    axes[z].set_title(drug)\n",
    "    axes[z].set_ylabel('Number of Mice')\n",
    "    z = z+1\n",
    "fig.set_size_inches(20, 10, forward=True)\n",
    "fig.tight_layout()\n",
    "plt.show()\n"
   ]
  },
  {
   "cell_type": "code",
   "execution_count": 10,
   "metadata": {},
   "outputs": [
    {
     "data": {
      "image/png": "[encoded data removed]",
      "text/plain": [
       "<Figure size 1440x720 with 10 Axes>"
      ]
     },
     "metadata": {
      "needs_background": "light"
     },
     "output_type": "display_data"
    }
   ],
   "source": [
    "#Same thing, using pandas\n",
    "pandas_df = study_complete.groupby([\"Drug Regimen\", \"Timepoint\"])\n",
    "pandas_df = pandas_df['Mouse ID'].count()\n",
    "z=0\n",
    "fig, axes = plt.subplots(1, 10)\n",
    "for drug in drug_list:\n",
    "        p_df= pandas_df[drug]\n",
    "        p_df.plot(ax=axes[z],kind=\"bar\", label= drug)\n",
    "        axes[z].set_title(drug)\n",
    "        axes[z].set_ylabel('Number of Mice')\n",
    "        z = z+1\n",
    "fig.set_size_inches(20, 10, forward=True)\n",
    "fig.tight_layout()\n",
    "plt.show()"
   ]
  },
  {
   "cell_type": "markdown",
   "metadata": {},
   "source": [
    "## Pie Plots"
   ]
  },
  {
   "cell_type": "code",
   "execution_count": 11,
   "metadata": {},
   "outputs": [
    {
     "name": "stdout",
     "output_type": "stream",
     "text": [
      "Sex ratio by Mouse ID\n"
     ]
    },
    {
     "data": {
      "image/png": "[encoded data removed]",
      "text/plain": [
       "<Figure size 432x288 with 1 Axes>"
      ]
     },
     "metadata": {},
     "output_type": "display_data"
    }
   ],
   "source": [
    "# Generate a pie plot showing the distribution of female versus male mice using pandas\n",
    "pandas_df = study_complete.groupby([\"Sex\"])\n",
    "pandas_df = pandas_df['Mouse ID'].count()\n",
    "pandas_df.plot(kind = 'pie',autopct=\"%1.1f%%\",startangle=180, title = False, shadow=True, legend = False)\n",
    "plt.tight_layout()\n",
    "print(\"Sex ratio by Mouse ID\")\n",
    "plt.show()"
   ]
  },
  {
   "cell_type": "code",
   "execution_count": 18,
   "metadata": {},
   "outputs": [
    {
     "name": "stdout",
     "output_type": "stream",
     "text": [
      "Sex ratio by Mouse ID\n"
     ]
    },
    {
     "data": {
      "image/png": "[encoded data removed]",
      "text/plain": [
       "<Figure size 432x288 with 1 Axes>"
      ]
     },
     "metadata": {},
     "output_type": "display_data"
    }
   ],
   "source": [
    "# Generate a pie plot showing the distribution of female versus male mice using pyplot\n",
    "grouped_sex_df = study_complete.groupby(['Sex'])\n",
    "mice_per_sex = grouped_sex_df['Mouse ID'].count()\n",
    "colors = [\"yellowgreen\", \"red\"]\n",
    "labels = ['female','male']\n",
    "plt.pie(mice_per_sex, labels=labels, colors=colors,autopct=\"%1.1f%%\",startangle=100)\n",
    "plt.tight_layout()\n",
    "print(\"Sex ratio by Mouse ID\")\n",
    "plt.show()"
   ]
  },
  {
   "cell_type": "markdown",
   "metadata": {},
   "source": [
    "## Quartiles, Outliers and Boxplots"
   ]
  },
  {
   "cell_type": "code",
   "execution_count": 19,
   "metadata": {},
   "outputs": [
    {
     "name": "stdout",
     "output_type": "stream",
     "text": [
      "The Drug Regimen with the smallest fall in Mice between timepoint 0 and 45 are ('Capomulin', 21), ('Ramicane', 20), ('Zoniferol', 14), ('Ceftamin', 13) and ('Naftisol', 13)\n"
     ]
    }
   ],
   "source": [
    "#Which drugs show the most promise? The ones with the smallest fall in Number of Mice between timepoint 0 and 45.\n",
    "t45_df = {}\n",
    "pandas_df = study_complete.groupby(['Drug Regimen','Timepoint'])\n",
    "pandas_df = pandas_df['Drug Regimen'].count()\n",
    "pandas_df = pd.DataFrame(pandas_df)\n",
    "for drug in drug_list:\n",
    "    t45_df[drug] = pandas_df.loc[(drug,45),\"Drug Regimen\"]\n",
    "t45_df = sorted(t45_df.items(), key=lambda kv: kv[1], reverse=True)\n",
    "print(f'The Drug Regimen with the smallest fall in Mice between timepoint 0 and 45 are {t45_df[0]}, {t45_df[1]}, {t45_df[2]}, {t45_df[3]} and {t45_df[4]}')"
   ]
  },
  {
   "cell_type": "code",
   "execution_count": 24,
   "metadata": {},
   "outputs": [
    {
     "name": "stdout",
     "output_type": "stream",
     "text": [
      "Capomulins median is 37.3, IQR is 7.8. Values > 51.8 or <20.7 could be outliers.These values might be:[] and []\n",
      "Ramicanes median is 34.8, IQR is 7.5. Values > 49.8 or <19.7 could be outliers.These values might be:[] and []\n",
      "Zoniferols median is 65.7, IQR is 5.7. Values > 76.9 or <54.0 could be outliers.These values might be:[] and []\n",
      "Ceftamins median is 64.3, IQR is 6.1. Values > 76.7 or <52.3 could be outliers.These values might be:[] and []\n"
     ]
    }
   ],
   "source": [
    "# Calculate the final tumor volume of each mouse across four of the most promising treatment regimens. Calculate the IQR and quantitatively determine if there are any potential outliers. \n",
    "#filter the original data set to only the top four regimens, and only mice that survived to Timepoint 45 (to reduce survivorship bias)\n",
    "drug_shortlist = ['Capomulin','Ramicane','Zoniferol','Ceftamin']\n",
    "final_tumor_size_df = study_complete[['Drug Regimen','Mouse ID','Tumor Volume (mm3)','Timepoint']]\n",
    "final_tumor_size_df = final_tumor_size_df.loc[final_tumor_size_df['Timepoint']==45]\n",
    "final_tumor_size_df = final_tumor_size_df.sort_values(by= 'Tumor Volume (mm3)')\n",
    "for drug in drug_shortlist:\n",
    "    drug_df = final_tumor_size_df.loc[final_tumor_size_df['Drug Regimen']== drug]['Tumor Volume (mm3)']\n",
    "    iqr = np.subtract(*np.percentile(drug_df, [75, 25]))\n",
    "    Q1_outlier = np.percentile(drug_df, 25) - iqr*1.5\n",
    "    Q3_outlier = np.percentile(drug_df, 75) + iqr*1.5\n",
    "    Q1_outlier_df = final_tumor_size_df.loc[final_tumor_size_df['Drug Regimen']==drug]['Tumor Volume (mm3)'] < Q1_outlier\n",
    "    Q3_outlier_df = final_tumor_size_df.loc[final_tumor_size_df['Drug Regimen']==drug]['Tumor Volume (mm3)'] > Q3_outlier\n",
    "    print(f'{drug}s median is {drug_df.median():.1f}, IQR is {iqr:.1f}. Values > {Q3_outlier:.1f} or <{Q1_outlier:.1f} could be outliers.These values might be:{np.where(Q1_outlier_df)[0]} and {np.where(Q3_outlier_df)[0]}')"
   ]
  },
  {
   "cell_type": "code",
   "execution_count": 26,
   "metadata": {},
   "outputs": [
    {
     "data": {
      "image/png": "[encoded data removed]",
      "text/plain": [
       "<Figure size 432x288 with 1 Axes>"
      ]
     },
     "metadata": {
      "needs_background": "light"
     },
     "output_type": "display_data"
    },
    {
     "data": {
      "image/png": "[encoded data removed]",
      "text/plain": [
       "<Figure size 432x288 with 1 Axes>"
      ]
     },
     "metadata": {
      "needs_background": "light"
     },
     "output_type": "display_data"
    },
    {
     "data": {
      "image/png": "[encoded data removed]",
      "text/plain": [
       "<Figure size 432x288 with 1 Axes>"
      ]
     },
     "metadata": {
      "needs_background": "light"
     },
     "output_type": "display_data"
    },
    {
     "data": {
      "image/png": "[encoded data removed]",
      "text/plain": [
       "<Figure size 432x288 with 1 Axes>"
      ]
     },
     "metadata": {
      "needs_background": "light"
     },
     "output_type": "display_data"
    }
   ],
   "source": [
    "# Generate a box plot of the final tumor volume of each mouse across four regimens of interest\n",
    "for drug in drug_shortlist:\n",
    "    drug_df = final_tumor_size_df.loc[final_tumor_size_df['Drug Regimen']== drug]['Tumor Volume (mm3)']\n",
    "    fig1, ax1 = plt.subplots()\n",
    "    ax1.set_title(drug)\n",
    "    ax1.set_ylabel('Tumor Volume (mm3)')\n",
    "    ax1.boxplot(drug_df)\n",
    "    plt.show()"
   ]
  },
  {
   "cell_type": "markdown",
   "metadata": {},
   "source": [
    "## Line and Scatter Plots"
   ]
  },
  {
   "cell_type": "code",
   "execution_count": 36,
   "metadata": {},
   "outputs": [
    {
     "data": {
      "image/png": "[encoded data removed]",
      "text/plain": [
       "<Figure size 432x288 with 1 Axes>"
      ]
     },
     "metadata": {
      "needs_background": "light"
     },
     "output_type": "display_data"
    }
   ],
   "source": [
    "# Generate a line plot of time point versus tumor volume for a mouse treated with Capomulin\n",
    "y_axis = study_complete[study_complete['Drug Regimen'] == 'Capomulin'].groupby('Timepoint')['Tumor Volume (mm3)'].mean()\n",
    "x_axis = study_complete['Timepoint'].unique()\n",
    "plt.plot(x_axis, y_axis, color='blue', label=\"Tumor Volume (mm3)\")\n",
    "plt.title(\"time point versus tumor volume for a mouse treated with Capomulin\")\n",
    "plt.xlabel('Time Point')\n",
    "plt.ylabel('Tumor Volume (mm3)')\n",
    "plt.legend(loc=\"best\")\n",
    "plt.tight_layout()\n",
    "plt.show()\n"
   ]
  },
  {
   "cell_type": "code",
   "execution_count": 16,
   "metadata": {},
   "outputs": [],
   "source": [
    "# Generate a scatter plot of mouse weight versus average tumor volume for the Capomulin regimen\n",
    "\n"
   ]
  },
  {
   "cell_type": "markdown",
   "metadata": {},
   "source": [
    "## Correlation and Regression"
   ]
  },
  {
   "cell_type": "code",
   "execution_count": 17,
   "metadata": {},
   "outputs": [],
   "source": [
    "# Calculate the correlation coefficient and linear regression model \n",
    "# for mouse weight and average tumor volume for the Capomulin regimen\n"
   ]
  },
  {
   "cell_type": "code",
   "execution_count": null,
   "metadata": {},
   "outputs": [],
   "source": []
  },
  {
   "cell_type": "code",
   "execution_count": null,
   "metadata": {},
   "outputs": [],
   "source": []
  }
 ],
 "metadata": {
  "anaconda-cloud": {},
  "kernelspec": {
   "display_name": "Python [conda env:.conda-PythonData] *",
   "language": "python",
   "name": "conda-env-.conda-PythonData-py"
  },
  "language_info": {
   "codemirror_mode": {
    "name": "ipython",
    "version": 3
   },
   "file_extension": ".py",
   "mimetype": "text/x-python",
   "name": "python",
   "nbconvert_exporter": "python",
   "pygments_lexer": "ipython3",
   "version": "3.8.3"
  }
 },
 "nbformat": 4,
 "nbformat_minor": 2
}

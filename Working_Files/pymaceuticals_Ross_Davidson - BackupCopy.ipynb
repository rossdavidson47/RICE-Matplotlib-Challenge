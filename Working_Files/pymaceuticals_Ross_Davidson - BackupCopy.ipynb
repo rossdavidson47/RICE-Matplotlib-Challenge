{
 "cells": [
  {
   "cell_type": "markdown",
   "metadata": {},
   "source": [
    "## Observations and Insights "
   ]
  },
  {
   "cell_type": "markdown",
   "metadata": {},
   "source": []
  },
  {
   "cell_type": "code",
   "execution_count": null,
   "metadata": {},
   "outputs": [],
   "source": [
    "# Dependencies and Setup\n",
    "import os\n",
    "import matplotlib.pyplot as plt\n",
    "import pandas as pd\n",
    "import scipy.stats as st\n",
    "import numpy as np\n",
    "\n",
    "# Study data files\n",
    "mouse_metadata_path = os.path.join(\"data\",\"Mouse_metadata.csv\")\n",
    "study_results_path = os.path.join(\"data\",\"Study_results.csv\")\n",
    "\n",
    "# Read the mouse data and the study results\n",
    "mouse_metadata = pd.read_csv(mouse_metadata_path)\n",
    "study_results = pd.read_csv(study_results_path)\n",
    "\n",
    "# Combine the data into a single dataset\n",
    "study_complete = pd.merge(mouse_metadata, study_results, how=\"left\", on=[\"Mouse ID\"])"
   ]
  },
  {
   "cell_type": "code",
   "execution_count": null,
   "metadata": {},
   "outputs": [],
   "source": [
    "# Checking the number of mice in the DataFrame.\n",
    "num_unique_mice = len(study_complete['Mouse ID'].value_counts())\n",
    "num_data_points = len(study_complete['Mouse ID'])\n",
    "print(f'There are {num_unique_mice} unique mice IDs in the DataFrame, across {num_data_points} data points.')"
   ]
  },
  {
   "cell_type": "code",
   "execution_count": null,
   "metadata": {},
   "outputs": [],
   "source": [
    "# Get the duplicate mice by ID number that shows up for Mouse ID and Timepoint. \n",
    "# Optional: Get all the data for the duplicate mouse ID. \n",
    "study_complete[study_complete.duplicated(subset=[\"Mouse ID\",\"Timepoint\"] , keep='first')]"
   ]
  },
  {
   "cell_type": "code",
   "execution_count": null,
   "metadata": {},
   "outputs": [],
   "source": [
    "# Create a clean DataFrame by dropping the duplicate mouse by its ID. \n",
    "#Applying inplace to existing DataFrame to save memory.\n",
    "study_complete.drop_duplicates(subset=[\"Mouse ID\",\"Timepoint\"],keep='first', inplace=True)"
   ]
  },
  {
   "cell_type": "code",
   "execution_count": null,
   "metadata": {},
   "outputs": [],
   "source": [
    "# Checking the number of mice in the clean DataFrame.\n",
    "num_unique_mice2 = len(study_complete['Mouse ID'].value_counts())\n",
    "num_data_points2 = len(study_complete['Mouse ID'])\n",
    "print(f'There are {num_unique_mice2} unique mice IDs in the DataFrame, across {num_data_points2} data points.')\n",
    "print(f'Tidying up duplicates has removed {num_unique_mice2-num_unique_mice} mice and {num_data_points-num_data_points2} datapoints.')"
   ]
  },
  {
   "cell_type": "markdown",
   "metadata": {},
   "source": [
    "## Summary Statistics"
   ]
  },
  {
   "cell_type": "code",
   "execution_count": null,
   "metadata": {},
   "outputs": [],
   "source": [
    "# Generate a summary statistics table of mean, median, variance, standard deviation, and SEM of the tumor volume for each regimen\n",
    "# This method creates multiple series and puts them all together at the end.\n",
    "drug_list = study_complete['Drug Regimen'].unique()\n",
    "sum_stats = pd.DataFrame(index = drug_list)\n",
    "for drug in drug_list:\n",
    "    sum_stats.loc[drug,\"Tumor Volume Mean\"] = study_complete.loc[study_complete['Drug Regimen'] == drug]['Tumor Volume (mm3)'].mean()\n",
    "    sum_stats.loc[drug,\"Tumor Volume Median\"] = study_complete.loc[study_complete['Drug Regimen'] == drug]['Tumor Volume (mm3)'].median()\n",
    "    sum_stats.loc[drug,\"Tumor Volume Variance\"] = study_complete.loc[study_complete['Drug Regimen'] == drug]['Tumor Volume (mm3)'].var()\n",
    "    sum_stats.loc[drug,\"Tumor Volume Standard Deviation\"] = study_complete.loc[study_complete['Drug Regimen'] == drug]['Tumor Volume (mm3)'].std()\n",
    "    sum_stats.loc[drug,\"Tumor Volume SEM\"] = study_complete.loc[study_complete['Drug Regimen'] == drug]['Tumor Volume (mm3)'].sem()\n",
    "pd.options.display.float_format = '{:,.2f}'.format\n",
    "sum_stats"
   ]
  },
  {
   "cell_type": "code",
   "execution_count": null,
   "metadata": {
    "scrolled": true
   },
   "outputs": [],
   "source": [
    "#Same thing, using Groupby\n",
    "grouped_drugs_df = study_complete.groupby(['Drug Regimen'])\n",
    "sum_stats_grouped = pd.DataFrame({'Tumor Volume Mean': grouped_drugs_df['Tumor Volume (mm3)'].mean(),\n",
    "                                  'Tumor Volume Median': grouped_drugs_df['Tumor Volume (mm3)'].median(),\n",
    "                                  'Tumor Volume Variance': grouped_drugs_df['Tumor Volume (mm3)'].var(),\n",
    "                                  'Tumor Volume Standard Deviation': grouped_drugs_df['Tumor Volume (mm3)'].std(),\n",
    "                                  'Tumor Volume SEM': grouped_drugs_df['Tumor Volume (mm3)'].sem()\n",
    "},index = drug_list)\n",
    "sum_stats_grouped"
   ]
  },
  {
   "cell_type": "markdown",
   "metadata": {},
   "source": [
    "## Bar Plots"
   ]
  },
  {
   "cell_type": "code",
   "execution_count": null,
   "metadata": {},
   "outputs": [],
   "source": [
    "#First, let's look at a graph for all drugs combined, and show how the number of mice drops over time.\n",
    "grouped_timepoint_df = study_complete.groupby(['Timepoint'])\n",
    "mice_per_timepoint = grouped_timepoint_df['Mouse ID'].count()\n",
    "y_axis = mice_per_timepoint\n",
    "x_axis = study_complete['Timepoint'].unique()\n",
    "plt.bar(x_axis, y_axis, color=\"b\", align=\"center\", label= 'All Drugs')\n",
    "plt.title(\"Number of mice per time point for each treatment\")\n",
    "plt.xlabel('Time Point')\n",
    "plt.ylabel('Number of Mice')\n",
    "plt.legend(loc=\"best\")\n",
    "plt.tight_layout()\n",
    "plt.show()"
   ]
  },
  {
   "cell_type": "code",
   "execution_count": null,
   "metadata": {},
   "outputs": [],
   "source": [
    "#Now, let's look at the same pattern for individual drugs.\n",
    "#Using matplotlib.pyplot as plt\n",
    "x_axis = study_complete['Timepoint'].unique() \n",
    "z = 0\n",
    "fig, axes = plt.subplots(1, 10)\n",
    "for drug in drug_list:\n",
    "    y_axis = study_complete[study_complete['Drug Regimen'] == drug].groupby('Timepoint')['Mouse ID'].count()\n",
    "    axes[z].bar(x_axis, y_axis,align=\"center\", label= drug, width = 1)\n",
    "    axes[z].set_title(drug)\n",
    "    axes[z].set_ylabel('Number of Mice')\n",
    "    axes[z].set_xlabel('Timepoint')\n",
    "    z = z+1\n",
    "fig.set_size_inches(20, 10, forward=True)\n",
    "fig.tight_layout()\n",
    "plt.show()"
   ]
  },
  {
   "cell_type": "code",
   "execution_count": null,
   "metadata": {},
   "outputs": [],
   "source": [
    "#Same thing, using pandas as pd\n",
    "pandas_df = study_complete.groupby([\"Drug Regimen\", \"Timepoint\"])\n",
    "pandas_df = pandas_df['Mouse ID'].count()\n",
    "z=0\n",
    "fig, axes = plt.subplots(1, 10)\n",
    "for drug in drug_list:\n",
    "        p_df= pandas_df[drug]\n",
    "        p_df.plot(ax=axes[z],kind=\"bar\", label= drug, rot=0,  width = 0.2, fontsize = 8)\n",
    "        axes[z].set_title(drug)\n",
    "        axes[z].set_ylabel('Number of Mice')\n",
    "        axes[z].set_xlabel('Timepoint')\n",
    "        z = z+1\n",
    "fig.set_size_inches(20, 10, forward=True)\n",
    "fig.tight_layout()\n",
    "plt.show()"
   ]
  },
  {
   "cell_type": "code",
   "execution_count": null,
   "metadata": {},
   "outputs": [],
   "source": []
  },
  {
   "cell_type": "markdown",
   "metadata": {},
   "source": [
    "## Pie Plots"
   ]
  },
  {
   "cell_type": "code",
   "execution_count": null,
   "metadata": {},
   "outputs": [],
   "source": [
    "# Generate a pie plot showing the distribution of female versus male mice using pandas\n",
    "pandas_df = study_complete.groupby([\"Sex\"])\n",
    "pandas_df = pandas_df['Mouse ID'].count()\n",
    "pandas_df.plot(kind = 'pie',autopct=\"%1.1f%%\",startangle=100, title = False, shadow=True, legend = False)\n",
    "plt.tight_layout()\n",
    "print(\"Sex ratio by Mouse ID\")\n",
    "plt.show()"
   ]
  },
  {
   "cell_type": "code",
   "execution_count": null,
   "metadata": {},
   "outputs": [],
   "source": [
    "# Generate a pie plot showing the distribution of female versus male mice using pyplot\n",
    "grouped_sex_df = study_complete.groupby(['Sex'])\n",
    "mice_per_sex = grouped_sex_df['Mouse ID'].count()\n",
    "colors = [\"yellowgreen\", \"red\"]\n",
    "labels = ['female','male']\n",
    "plt.pie(mice_per_sex, labels=labels, colors=colors,autopct=\"%1.1f%%\",startangle=100)\n",
    "plt.tight_layout()\n",
    "print(\"Sex ratio by Mouse ID\")\n",
    "plt.show()"
   ]
  },
  {
   "cell_type": "markdown",
   "metadata": {},
   "source": [
    "## Quartiles, Outliers and Boxplots"
   ]
  },
  {
   "cell_type": "code",
   "execution_count": null,
   "metadata": {},
   "outputs": [],
   "source": [
    "#Which drugs show the most promise? The ones with the smallest fall in Number of Mice between timepoint 0 and 45.\n",
    "t45_df = {}\n",
    "pandas_df = study_complete.groupby(['Drug Regimen','Timepoint'])\n",
    "pandas_df = pandas_df['Drug Regimen'].count()\n",
    "pandas_df = pd.DataFrame(pandas_df)\n",
    "for drug in drug_list:\n",
    "    t45_df[drug] = pandas_df.loc[(drug,45),\"Drug Regimen\"]\n",
    "t45_df = sorted(t45_df.items(), key=lambda kv: kv[1], reverse=True)\n",
    "print(f'The Drug Regimen with the smallest fall in Mice between timepoint 0 and 45 are {t45_df[0]}, {t45_df[1]}, {t45_df[2]}, and {t45_df[3]}')"
   ]
  },
  {
   "cell_type": "code",
   "execution_count": null,
   "metadata": {},
   "outputs": [],
   "source": [
    "# Calculate the final tumor volume of each mouse across four of the most promising treatment regimens. Calculate the IQR and quantitatively determine if there are any potential outliers. \n",
    "#filter the original data set to only the top four regimens, and only mice that survived to Timepoint 45 (to reduce survivorship bias)\n",
    "drug_shortlist = ['Capomulin','Ramicane','Zoniferol','Ceftamin']\n",
    "final_tumor_size_df = study_complete[['Drug Regimen','Mouse ID','Tumor Volume (mm3)','Timepoint']]\n",
    "final_tumor_size_df = final_tumor_size_df.loc[final_tumor_size_df['Timepoint']==45]\n",
    "final_tumor_size_df = final_tumor_size_df.sort_values(by= 'Tumor Volume (mm3)')\n",
    "for drug in drug_shortlist:\n",
    "    drug_df = final_tumor_size_df.loc[final_tumor_size_df['Drug Regimen']== drug]['Tumor Volume (mm3)']\n",
    "    iqr = np.subtract(*np.percentile(drug_df, [75, 25]))\n",
    "    Q1 = np.percentile(drug_df, 25)\n",
    "    Q3 = np.percentile(drug_df, 75)\n",
    "    Q1_outlier = np.percentile(drug_df, 25) - iqr*1.5\n",
    "    Q3_outlier = np.percentile(drug_df, 75) + iqr*1.5\n",
    "    Q1_outlier_df = final_tumor_size_df.loc[final_tumor_size_df['Drug Regimen']==drug]['Tumor Volume (mm3)'] < Q1_outlier\n",
    "    Q3_outlier_df = final_tumor_size_df.loc[final_tumor_size_df['Drug Regimen']==drug]['Tumor Volume (mm3)'] > Q3_outlier\n",
    "    print(f'{drug}s median is {drug_df.median():.1f}, and the quartiles are {Q1:.1f} and {Q3:.1f}. IQR is {iqr:.1f}. Values> {Q3_outlier:.1f} or <{Q1_outlier:.1f} could be outliers.')\n",
    "    print(f'For {drug}, these values might be:{np.where(Q1_outlier_df)[0]} and {np.where(Q3_outlier_df)[0]}')"
   ]
  },
  {
   "cell_type": "code",
   "execution_count": null,
   "metadata": {},
   "outputs": [],
   "source": [
    "# Generate a box plot of the final tumor volume of each mouse across four regimens of interest\n",
    "for drug in drug_shortlist:\n",
    "    drug_df = final_tumor_size_df.loc[final_tumor_size_df['Drug Regimen']== drug]['Tumor Volume (mm3)']\n",
    "    fig1, ax1 = plt.subplots()\n",
    "    ax1.set_title(drug)\n",
    "    ax1.set_ylabel('Tumor Volume (mm3)')\n",
    "    ax1.boxplot(drug_df)\n",
    "    plt.show()"
   ]
  },
  {
   "cell_type": "markdown",
   "metadata": {},
   "source": [
    "## Line and Scatter Plots"
   ]
  },
  {
   "cell_type": "code",
   "execution_count": null,
   "metadata": {},
   "outputs": [],
   "source": [
    "# Generate a line plot of time point versus tumor volume for a mouse treated with Capomulin\n",
    "y_axis = study_complete[study_complete['Drug Regimen'] == 'Capomulin'].groupby('Timepoint')['Tumor Volume (mm3)'].mean()\n",
    "x_axis = study_complete['Timepoint'].unique()\n",
    "plt.plot(x_axis, y_axis, color='blue', label=\"Tumor Volume (mm3)\")\n",
    "plt.title(\"Timepoint v tumor volume for a mouse treated with Capomulin\")\n",
    "plt.xlabel('Time Point')\n",
    "plt.ylabel('Tumor Volume (mm3)')\n",
    "plt.legend(loc=\"best\")\n",
    "plt.tight_layout()\n",
    "plt.show()\n"
   ]
  },
  {
   "cell_type": "code",
   "execution_count": null,
   "metadata": {},
   "outputs": [],
   "source": [
    "# Generate a scatter plot of mouse weight versus average tumor volume for the Capomulin regimen\n",
    "capomulin_df = study_complete.loc[study_complete['Drug Regimen']== 'Capomulin']\n",
    "grouped_id_df = capomulin_df.groupby(['Mouse ID'])\n",
    "df = grouped_id_df['Weight (g)'].mean()\n",
    "df = pd.DataFrame(df)\n",
    "df['Tumor Volume (mm3)'] = grouped_id_df['Tumor Volume (mm3)'].mean()\n",
    "df.plot(kind = 'scatter',x = 'Weight (g)', y='Tumor Volume (mm3)')\n",
    "plt.title(\"Mouse weight v average tumor volume for the Capomulin regimen\")\n",
    "plt.xlabel('Mouse weight')\n",
    "plt.ylabel('Tumor Volume (mm3)')\n",
    "plt.tight_layout()\n",
    "plt.show()"
   ]
  },
  {
   "cell_type": "markdown",
   "metadata": {},
   "source": [
    "## Correlation and Regression"
   ]
  },
  {
   "cell_type": "code",
   "execution_count": null,
   "metadata": {},
   "outputs": [],
   "source": [
    "# Calculate the correlation coefficient and linear regression model \n",
    "# for mouse weight and average tumor volume for the Capomulin regimen\n",
    "mouse_weight = df['Weight (g)']\n",
    "tumor_volume = df['Tumor Volume (mm3)']\n",
    "correlation = st.pearsonr(mouse_weight,tumor_volume)\n",
    "print(f\"The Pearson correlation coefficient between both factors is {round(correlation[0],2)}\")"
   ]
  },
  {
   "cell_type": "code",
   "execution_count": null,
   "metadata": {},
   "outputs": [],
   "source": [
    "x_values = df['Weight (g)']\n",
    "y_values = df['Tumor Volume (mm3)']\n",
    "(slope, intercept, rvalue, pvalue, stderr) = st.linregress(x_values, y_values)\n",
    "regress_values = x_values * slope + intercept\n",
    "line_eq = \"y = \" + str(round(slope,2)) + \"x + \" + str(round(intercept,2))\n",
    "print(f' The linear regression model is {line_eq}')"
   ]
  },
  {
   "cell_type": "code",
   "execution_count": null,
   "metadata": {},
   "outputs": [],
   "source": [
    "#Repeating the scatter plot, including the linear regression model\n",
    "df.plot(kind = 'scatter',x = 'Weight (g)', y='Tumor Volume (mm3)')\n",
    "plt.title(\"Mouse weight v average tumor volume for the Capomulin regimen\")\n",
    "plt.xlabel('Mouse weight')\n",
    "plt.ylabel('Tumor Volume (mm3)')\n",
    "plt.annotate(line_eq,(20,36),fontsize=15,color=\"red\")\n",
    "plt.tight_layout()\n",
    "plt.show()"
   ]
  },
  {
   "cell_type": "code",
   "execution_count": null,
   "metadata": {},
   "outputs": [],
   "source": [
    "#Observations or insights about the data.\n",
    "print('It is possible to draw initial conclusions from this analysis. Here are three observable trends based on the data.')\n",
    "print(f'1. There was one duplicated data point, which was removed.')\n",
    "print(f'2. The data set is slightly (50.7%) weighted towards being Male.')\n",
    "print(f'3. There is a positive correlation between Mouse weight v average tumor volume for the Capomulin regimen')"
   ]
  }
 ],
 "metadata": {
  "anaconda-cloud": {},
  "kernelspec": {
   "display_name": "Python [conda env:.conda-PythonData] *",
   "language": "python",
   "name": "conda-env-.conda-PythonData-py"
  },
  "language_info": {
   "codemirror_mode": {
    "name": "ipython",
    "version": 3
   },
   "file_extension": ".py",
   "mimetype": "text/x-python",
   "name": "python",
   "nbconvert_exporter": "python",
   "pygments_lexer": "ipython3",
   "version": "3.8.3"
  }
 },
 "nbformat": 4,
 "nbformat_minor": 2
}
